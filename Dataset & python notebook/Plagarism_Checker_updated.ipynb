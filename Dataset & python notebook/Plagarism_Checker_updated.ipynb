{
  "nbformat": 4,
  "nbformat_minor": 0,
  "metadata": {
    "colab": {
      "provenance": [],
      "gpuType": "T4"
    },
    "kernelspec": {
      "name": "python3",
      "display_name": "Python 3"
    },
    "language_info": {
      "name": "python"
    },
    "accelerator": "GPU"
  },
  "cells": [
    {
      "cell_type": "code",
      "source": [
        "import os\n",
        "import urllib.parse\n",
        "import json\n",
        "import sys\n",
        "import zipfile\n",
        "import io\n",
        "\n",
        "from sklearn.feature_extraction.text import TfidfVectorizer\n",
        "from sklearn.metrics.pairwise import cosine_similarity\n",
        "\n",
        "def vectorize(Text):\n",
        "    return TfidfVectorizer().fit_transform(Text).toarray()\n",
        "\n",
        "def similarity(doc1, doc2):\n",
        "    return cosine_similarity([doc1, doc2])\n",
        "\n",
        "def read_text_files_from_zip(zip_filename):\n",
        "    student_notes = []\n",
        "    file_names = []\n",
        "    with zipfile.ZipFile(zip_filename, 'r') as zipf:\n",
        "        for file_info in zipf.infolist():\n",
        "            if file_info.filename.endswith('.txt') and not file_info.filename.startswith(\"._\"):  # Only read .txt files and skip those starting with \"._\"\n",
        "                with zipf.open(file_info) as file:\n",
        "                    text = file.read().decode('latin-1')\n",
        "                    student_notes.append(text)\n",
        "                    file_names.append(file_info.filename)\n",
        "    return student_notes, file_names\n",
        "\n",
        "def check_plagiarism(zip_filename):\n",
        "    student_notes, file_names = read_text_files_from_zip(zip_filename)\n",
        "    vectors = vectorize(student_notes)\n",
        "\n",
        "    plagiarism_results = {}\n",
        "\n",
        "    for i in range(len(student_notes)):\n",
        "        for j in range(i + 1, len(student_notes)):\n",
        "            sim_score = similarity(vectors[i], vectors[j])[0][1]\n",
        "            if sim_score > 0:\n",
        "                sim_score = round(sim_score, 1)\n",
        "                res = (f'{os.path.basename(file_names[i])} similar to {os.path.basename(file_names[j])}')\n",
        "                plagiarism_results[res] = sim_score\n",
        "\n",
        "    api = json.dumps(plagiarism_results)\n",
        "    return api\n",
        "\n",
        "if __name__ == \"__main__\":\n",
        "    zip_filename = \"/content/Sample_Documents.zip\"\n",
        "    if os.path.exists(zip_filename):\n",
        "        result = check_plagiarism(zip_filename)\n",
        "        print(result)\n",
        "    else:\n",
        "        print(\"The specified file does not exist.\")\n"
      ],
      "metadata": {
        "colab": {
          "base_uri": "https://localhost:8080/"
        },
        "id": "ofBGrfEGqj_6",
        "outputId": "3e59fdc2-5b28-4267-d140-92c2c3ce3936"
      },
      "execution_count": null,
      "outputs": [
        {
          "output_type": "stream",
          "name": "stdout",
          "text": [
            "{\"A.txt similar to B.txt\": 0.5, \"A.txt similar to C.txt\": 0.5, \"A.txt similar to D.txt\": 1.0, \"B.txt similar to C.txt\": 0.7, \"B.txt similar to D.txt\": 0.5, \"C.txt similar to D.txt\": 0.5}\n"
          ]
        }
      ]
    },
    {
      "cell_type": "code",
      "source": [
        "import os\n",
        "import urllib.parse\n",
        "import json\n",
        "import sys\n",
        "import zipfile\n",
        "import io\n",
        "\n",
        "from sklearn.feature_extraction.text import TfidfVectorizer\n",
        "from sklearn.metrics.pairwise import cosine_similarity\n",
        "\n",
        "def vectorize(Text):\n",
        "    return TfidfVectorizer().fit_transform(Text).toarray()\n",
        "\n",
        "def similarity(doc1, doc2):\n",
        "    return cosine_similarity([doc1, doc2])\n",
        "\n",
        "def read_text_files_from_zip(zip_filename):\n",
        "    student_notes = []\n",
        "    file_names = []\n",
        "    with zipfile.ZipFile(zip_filename, 'r') as zipf:\n",
        "        for file_info in zipf.infolist():\n",
        "            if file_info.filename.endswith('.txt') and not file_info.filename.startswith(\"._\"):  # Only read .txt files and skip those starting with \"._\"\n",
        "                with zipf.open(file_info) as file:\n",
        "                    text = file.read().decode('latin-1')\n",
        "                    student_notes.append(text)\n",
        "                    file_names.append(file_info.filename)\n",
        "    return student_notes, file_names\n",
        "\n",
        "def check_plagiarism(zip_filename):\n",
        "    student_notes, file_names = read_text_files_from_zip(zip_filename)\n",
        "    vectors = vectorize(student_notes)\n",
        "\n",
        "    plagiarism_results = {}\n",
        "\n",
        "    for i in range(len(student_notes)):\n",
        "        for j in range(i + 1, len(student_notes)):\n",
        "            # Skip files starting with \"._\"\n",
        "            if not file_names[i].startswith(\"._\") and not file_names[j].startswith(\"._\"):\n",
        "                sim_score = similarity(vectors[i], vectors[j])[0][1]\n",
        "                if sim_score > 0:\n",
        "                    sim_score = round(sim_score, 1)\n",
        "                    res = (f'{os.path.basename(file_names[i])} similar to {os.path.basename(file_names[j])}')\n",
        "                    plagiarism_results[res] = sim_score\n",
        "\n",
        "    api = json.dumps(plagiarism_results)\n",
        "    return api\n",
        "\n",
        "\n",
        "if __name__ == \"__main__\":\n",
        "    zip_filename = \"/content/Sample_Documents.zip\"\n",
        "    if os.path.exists(zip_filename):\n",
        "        result = check_plagiarism(zip_filename)\n",
        "        print(result)\n",
        "    else:\n",
        "        print(\"The specified file does not exist.\")\n"
      ],
      "metadata": {
        "colab": {
          "base_uri": "https://localhost:8080/"
        },
        "outputId": "0aafd930-da64-439c-b2a6-f23e11081a57",
        "id": "ludxYZzMMl7q"
      },
      "execution_count": null,
      "outputs": [
        {
          "output_type": "stream",
          "name": "stdout",
          "text": [
            "{\"A.txt similar to B.txt\": 0.5, \"A.txt similar to C.txt\": 0.5, \"A.txt similar to D.txt\": 1.0, \"B.txt similar to C.txt\": 0.7, \"B.txt similar to D.txt\": 0.5, \"C.txt similar to D.txt\": 0.5}\n"
          ]
        }
      ]
    },
    {
      "cell_type": "code",
      "source": [
        "import os\n",
        "import urllib.parse\n",
        "import json\n",
        "import sys\n",
        "import zipfile\n",
        "import io\n",
        "\n",
        "from sklearn.feature_extraction.text import TfidfVectorizer\n",
        "from sklearn.metrics.pairwise import cosine_similarity\n",
        "\n",
        "def vectorize(Text):\n",
        "    return TfidfVectorizer().fit_transform(Text).toarray()\n",
        "\n",
        "def similarity(doc1, doc2):\n",
        "    return cosine_similarity([doc1, doc2])\n",
        "\n",
        "def read_text_files_from_zip(zip_filename):\n",
        "    student_notes = []\n",
        "    file_names = []\n",
        "    with zipfile.ZipFile(zip_filename, 'r') as zipf:\n",
        "        for file_info in zipf.infolist():\n",
        "            if file_info.filename.endswith('.txt') and not file_info.filename.startswith(\"._\"):  # Only read .txt files and skip those starting with \"._\"\n",
        "                with zipf.open(file_info) as file:\n",
        "                    text = file.read().decode('latin-1')\n",
        "                    student_notes.append(text)\n",
        "                    file_names.append(file_info.filename)\n",
        "    return student_notes, file_names\n",
        "\n",
        "def check_plagiarism(zip_filename):\n",
        "    student_notes, file_names = read_text_files_from_zip(zip_filename)\n",
        "    vectors = vectorize(student_notes)\n",
        "\n",
        "    plagiarism_results = {}\n",
        "\n",
        "    for i in range(len(student_notes)):\n",
        "        for j in range(i + 1, len(student_notes)):\n",
        "            sim_score = similarity(vectors[i], vectors[j])[0][1]\n",
        "            if sim_score > 0:\n",
        "                sim_score = round(sim_score, 1)\n",
        "                res = (f'{os.path.basename(file_names[i])} similar to {os.path.basename(file_names[j])}')\n",
        "                plagiarism_results[res] = sim_score\n",
        "\n",
        "    api = json.dumps(plagiarism_results)\n",
        "    return api\n",
        "\n",
        "if __name__ == \"__main__\":\n",
        "    zip_filename = \"/content/New Folder With Items 3.zip\"\n",
        "    if os.path.exists(zip_filename):\n",
        "        result = check_plagiarism(zip_filename)\n",
        "        print(result)\n",
        "    else:\n",
        "        print(\"The specified file does not exist.\")\n"
      ],
      "metadata": {
        "colab": {
          "base_uri": "https://localhost:8080/"
        },
        "id": "w-InzFvKMuW_",
        "outputId": "ccc65250-b250-4833-abbf-2d5bdde233cf"
      },
      "execution_count": null,
      "outputs": [
        {
          "output_type": "stream",
          "name": "stdout",
          "text": [
            "{\"Data Science.txt similar to Compiler construction.txt\": 0.6, \"Data Science.txt similar to Database Administration.txt\": 0.6, \"Data Science.txt similar to Database Administration copy.txt\": 0.6, \"._Data Science.txt similar to ._Compiler construction.txt\": 0.6, \"._Data Science.txt similar to ._Database Administration.txt\": 0.9, \"._Data Science.txt similar to ._Database Administration copy.txt\": 0.8, \"Compiler construction.txt similar to Database Administration.txt\": 0.7, \"Compiler construction.txt similar to Database Administration copy.txt\": 0.7, \"._Compiler construction.txt similar to ._Database Administration.txt\": 0.6, \"._Compiler construction.txt similar to ._Database Administration copy.txt\": 0.5, \"Database Administration.txt similar to Database Administration copy.txt\": 1.0, \"._Database Administration.txt similar to ._Database Administration copy.txt\": 0.8}\n"
          ]
        }
      ]
    },
    {
      "cell_type": "code",
      "source": [
        "import os\n",
        "import urllib.parse\n",
        "import json\n",
        "import sys\n",
        "import zipfile\n",
        "import io\n",
        "\n",
        "from sklearn.feature_extraction.text import TfidfVectorizer\n",
        "from sklearn.metrics.pairwise import cosine_similarity\n",
        "\n",
        "def vectorize(Text):\n",
        "    return TfidfVectorizer().fit_transform(Text).toarray()\n",
        "\n",
        "def similarity(doc1, doc2):\n",
        "    return cosine_similarity([doc1, doc2])\n",
        "\n",
        "def read_text_files_from_zip(zip_filename):\n",
        "    student_notes = []\n",
        "    file_names = []\n",
        "    with zipfile.ZipFile(zip_filename, 'r') as zipf:\n",
        "        for file_info in zipf.infolist():\n",
        "            if file_info.filename.endswith('.txt') and not file_info.filename.startswith(\"._\"):\n",
        "                with zipf.open(file_info) as file:\n",
        "                    text = file.read().decode('latin-1')\n",
        "                    student_notes.append(text)\n",
        "                    file_names.append(file_info.filename)\n",
        "    return student_notes, file_names\n",
        "\n",
        "def check_plagiarism(zip_filename):\n",
        "    student_notes, file_names = read_text_files_from_zip(zip_filename)\n",
        "    vectors = vectorize(student_notes)\n",
        "\n",
        "    plagiarism_results = {}\n",
        "\n",
        "    for i in range(len(student_notes)):\n",
        "        for j in range(i + 1, len(student_notes)):\n",
        "            sim_score = similarity(vectors[i], vectors[j])[0][1]\n",
        "            if sim_score > 0:\n",
        "                sim_score = \"{:.2f}\".format(sim_score)  # Format to two decimal places\n",
        "                res = (f'{os.path.basename(file_names[i])} similar to {os.path.basename(file_names[j])}')\n",
        "                plagiarism_results[res] = float(sim_score)  # Convert back to float\n",
        "\n",
        "    api = json.dumps(plagiarism_results)\n",
        "    return api\n",
        "\n",
        "if __name__ == \"__main__\":\n",
        "    zip_filename = \"/content/Sample_Documents.zip\"\n",
        "    if os.path.exists(zip_filename):\n",
        "        result = check_plagiarism(zip_filename)\n",
        "        print(result)\n",
        "    else:\n",
        "        print(\"The specified file does not exist.\")\n"
      ],
      "metadata": {
        "colab": {
          "base_uri": "https://localhost:8080/"
        },
        "id": "HxCp0dVsNQ-v",
        "outputId": "f4b3aa6d-7259-4826-fb95-c926e4a21ac8"
      },
      "execution_count": null,
      "outputs": [
        {
          "output_type": "stream",
          "name": "stdout",
          "text": [
            "{\"A.txt similar to B.txt\": 0.45, \"A.txt similar to C.txt\": 0.51, \"A.txt similar to D.txt\": 1.0, \"B.txt similar to C.txt\": 0.73, \"B.txt similar to D.txt\": 0.45, \"C.txt similar to D.txt\": 0.51}\n"
          ]
        }
      ]
    },
    {
      "cell_type": "code",
      "source": [
        "import os\n",
        "import urllib.parse\n",
        "import json\n",
        "import sys\n",
        "import zipfile\n",
        "import io\n",
        "import matplotlib.pyplot as plt\n",
        "import numpy as np\n",
        "\n",
        "from sklearn.feature_extraction.text import TfidfVectorizer\n",
        "from sklearn.metrics.pairwise import cosine_similarity\n",
        "\n",
        "def vectorize(Text):\n",
        "    return TfidfVectorizer().fit_transform(Text).toarray()\n",
        "\n",
        "def similarity(doc1, doc2):\n",
        "    return cosine_similarity([doc1, doc2])\n",
        "\n",
        "def read_text_files_from_zip(zip_filename):\n",
        "    student_notes = []\n",
        "    file_names = []\n",
        "    with zipfile.ZipFile(zip_filename, 'r') as zipf:\n",
        "        for file_info in zipf.infolist():\n",
        "            if file_info.filename.endswith('.txt') and not file_info.filename.startswith(\"._\"):  # Only read .txt files and skip those starting with \"._\"\n",
        "                with zipf.open(file_info) as file:\n",
        "                    text = file.read().decode('latin-1')\n",
        "                    student_notes.append(text)\n",
        "                    file_names.append(file_info.filename)\n",
        "    return student_notes, file_names\n",
        "\n",
        "def check_plagiarism(zip_filename):\n",
        "    student_notes, file_names = read_text_files_from_zip(zip_filename)\n",
        "    vectors = vectorize(student_notes)\n",
        "\n",
        "    plagiarism_results = []\n",
        "\n",
        "    for i in range(len(student_notes)):\n",
        "        for j in range(i + 1, len(student_notes)):\n",
        "            sim_score = similarity(vectors[i], vectors[j])[0][1]\n",
        "            if sim_score > 0:\n",
        "                sim_score = round(sim_score, 2)\n",
        "                file1_name = os.path.basename(file_names[i])\n",
        "                file2_name = os.path.basename(file_names[j])\n",
        "                plagiarism_results.append((file1_name, file2_name, sim_score))\n",
        "\n",
        "    return plagiarism_results\n",
        "\n",
        "if __name__ == \"__main__\":\n",
        "    zip_filename = \"/content/Sample_Documents.zip\"\n",
        "    if os.path.exists(zip_filename):\n",
        "        result = check_plagiarism(zip_filename)\n",
        "        if result:\n",
        "            file1_names, file2_names, similarity_scores = zip(*result)\n",
        "            x = np.arange(len(result))\n",
        "\n",
        "            plt.figure(figsize=(12, 6))\n",
        "            plt.bar(x, similarity_scores, color='skyblue')\n",
        "            plt.xticks(x, [f'{file1} - {file2}' for file1, file2 in zip(file1_names, file2_names)], rotation=90)\n",
        "            plt.xlabel('File Pairs')\n",
        "            plt.ylabel('Similarity Score')\n",
        "            plt.title('Plagiarism Check Results')\n",
        "            plt.tight_layout()\n",
        "\n",
        "            plt.show()\n",
        "        else:\n",
        "            print(\"No plagiarism found.\")\n",
        "    else:\n",
        "        print(\"The specified file does not exist.\")\n"
      ],
      "metadata": {
        "colab": {
          "base_uri": "https://localhost:8080/",
          "height": 443
        },
        "id": "RxtBH7hFQ3hc",
        "outputId": "73704643-34a1-4e57-e075-ee7777383de1"
      },
      "execution_count": null,
      "outputs": [
        {
          "output_type": "display_data",
          "data": {
            "text/plain": [
              "<Figure size 1200x600 with 1 Axes>"
            ],
            "image/png": "[encoded data removed]"
          },
          "metadata": {}
        }
      ]
    },
    {
      "cell_type": "code",
      "source": [
        "import os\n",
        "import urllib.parse\n",
        "import json\n",
        "import sys\n",
        "import zipfile\n",
        "import io\n",
        "import matplotlib.pyplot as plt\n",
        "import numpy as np\n",
        "\n",
        "from sklearn.feature_extraction.text import TfidfVectorizer\n",
        "from sklearn.metrics.pairwise import cosine_similarity\n",
        "\n",
        "def vectorize(Text):\n",
        "    return TfidfVectorizer().fit_transform(Text).toarray()\n",
        "\n",
        "def similarity(doc1, doc2):\n",
        "    return cosine_similarity([doc1, doc2])\n",
        "\n",
        "def read_text_files_from_zip(zip_filename):\n",
        "    student_notes = []\n",
        "    file_names = []\n",
        "    with zipfile.ZipFile(zip_filename, 'r') as zipf:\n",
        "        for file_info in zipf.infolist():\n",
        "            if file_info.filename.endswith('.txt') and not file_info.filename.startswith(\"._\"):  # Only read .txt files and skip those starting with \"._\"\n",
        "                with zipf.open(file_info) as file:\n",
        "                    text = file.read().decode('latin-1')\n",
        "                    student_notes.append(text)\n",
        "                    file_names.append(file_info.filename)\n",
        "    return student_notes, file_names\n",
        "\n",
        "def check_plagiarism(zip_filename):\n",
        "    student_notes, file_names = read_text_files_from_zip(zip_filename)\n",
        "    vectors = vectorize(student_notes)\n",
        "\n",
        "    plagiarism_results = []\n",
        "\n",
        "    for i in range(len(student_notes)):\n",
        "        for j in range(i + 1, len(student_notes)):\n",
        "            sim_score = similarity(vectors[i], vectors[j])[0][1]\n",
        "            if sim_score > 0:\n",
        "                sim_score = round(sim_score, 2)\n",
        "                file1_name = os.path.basename(file_names[i])\n",
        "                file2_name = os.path.basename(file_names[j])\n",
        "                plagiarism_results.append((file1_name, file2_name, sim_score))\n",
        "\n",
        "    return plagiarism_results\n",
        "\n",
        "if __name__ == \"__main__\":\n",
        "    zip_filename = \"/content/Sample_Documents.zip\"\n",
        "    if os.path.exists(zip_filename):\n",
        "        result = check_plagiarism(zip_filename)\n",
        "        if result:\n",
        "            file1_names, file2_names, similarity_scores = zip(*result)\n",
        "            x = np.arange(len(result))\n",
        "\n",
        "            plt.figure(figsize=(12, 6))\n",
        "            plt.bar(x, similarity_scores, color='skyblue')\n",
        "            plt.xticks(x, [f'{file1} - {file2}' for file1, file2 in zip(file1_names, file2_names)], rotation=0)  # Horizontal labels\n",
        "            plt.xlabel('File Pairs')\n",
        "            plt.ylabel('Similarity Score')\n",
        "            plt.title('Plagiarism Check Results')\n",
        "            plt.gca().xaxis.set_major_locator(plt.MultipleLocator(1))  # Set the x-axis tick spacing\n",
        "            plt.xticks(fontsize=8)  # Adjust font size for labels\n",
        "\n",
        "            plt.show()\n",
        "        else:\n",
        "            print(\"No plagiarism found.\")\n",
        "    else:\n",
        "        print(\"The specified file does not exist.\")\n"
      ],
      "metadata": {
        "colab": {
          "base_uri": "https://localhost:8080/",
          "height": 580
        },
        "id": "_3Y_MB1BRsFX",
        "outputId": "dc292b60-30c5-492e-c401-7ebb8baec398"
      },
      "execution_count": null,
      "outputs": [
        {
          "output_type": "display_data",
          "data": {
            "text/plain": [
              "<Figure size 1200x600 with 1 Axes>"
            ],
            "image/png": "[encoded data removed]"
          },
          "metadata": {}
        }
      ]
    },
    {
      "cell_type": "code",
      "source": [],
      "metadata": {
        "id": "e_ZDpF99Se7o"
      },
      "execution_count": null,
      "outputs": []
    },
    {
      "cell_type": "code",
      "source": [
        "import os\n",
        "import urllib.parse\n",
        "import json\n",
        "import sys\n",
        "import zipfile\n",
        "import io\n",
        "\n",
        "from sklearn.feature_extraction.text import TfidfVectorizer\n",
        "from sklearn.metrics.pairwise import cosine_similarity\n",
        "\n",
        "def vectorize(Text):\n",
        "    return TfidfVectorizer().fit_transform(Text).toarray()\n",
        "\n",
        "def similarity(doc1, doc2):\n",
        "    return cosine_similarity([doc1, doc2])\n",
        "\n",
        "def read_text_files_from_zip(zip_filename):\n",
        "    student_notes = []\n",
        "    file_names = []\n",
        "    with zipfile.ZipFile(zip_filename, 'r') as zipf:\n",
        "        for file_info in zipf.infolist():\n",
        "            if file_info.filename.endswith('.pdf') and not file_info.filename.startswith(\"._\"):  # Only read .txt files and skip those starting with \"._\"\n",
        "                with zipf.open(file_info) as file:\n",
        "                    text = file.read().decode('latin-1')\n",
        "                    student_notes.append(text)\n",
        "                    file_names.append(file_info.filename)\n",
        "    return student_notes, file_names\n",
        "\n",
        "def check_plagiarism(zip_filename):\n",
        "    student_notes, file_names = read_text_files_from_zip(zip_filename)\n",
        "    vectors = vectorize(student_notes)\n",
        "\n",
        "    plagiarism_results = {}\n",
        "\n",
        "    for i in range(len(student_notes)):\n",
        "        for j in range(i + 1, len(student_notes)):\n",
        "            sim_score = similarity(vectors[i], vectors[j])[0][1]\n",
        "            if sim_score > 0:\n",
        "                sim_score = round(sim_score, 1)\n",
        "                res = (f'{os.path.basename(file_names[i])} similar to {os.path.basename(file_names[j])}')\n",
        "                plagiarism_results[res] = sim_score\n",
        "\n",
        "    api = json.dumps(plagiarism_results)\n",
        "    return api\n",
        "\n",
        "if __name__ == \"__main__\":\n",
        "    zip_filename = \"/content/sample_doc_2.zip\"\n",
        "    if os.path.exists(zip_filename):\n",
        "        result = check_plagiarism(zip_filename)\n",
        "        print(result)\n",
        "    else:\n",
        "        print(\"The specified file does not exist.\")\n"
      ],
      "metadata": {
        "colab": {
          "base_uri": "https://localhost:8080/"
        },
        "outputId": "7176bf7a-e443-4f47-d881-99040252a042",
        "id": "y_Kkfj97VAHg"
      },
      "execution_count": null,
      "outputs": [
        {
          "output_type": "stream",
          "name": "stdout",
          "text": [
            "{\"alzahrani2009.pdf similar to An_automated_system_for_plagiarism_detection_using.pdf\": 0.4}\n"
          ]
        }
      ]
    },
    {
      "cell_type": "code",
      "source": [],
      "metadata": {
        "id": "JSlDolRfVgu1"
      },
      "execution_count": null,
      "outputs": []
    },
    {
      "cell_type": "code",
      "source": [
        "import os\n",
        "import urllib.parse\n",
        "import json\n",
        "import sys\n",
        "import zipfile\n",
        "import io\n",
        "import matplotlib.pyplot as plt\n",
        "import numpy as np\n",
        "\n",
        "from sklearn.feature_extraction.text import TfidfVectorizer\n",
        "from sklearn.metrics.pairwise import cosine_similarity\n",
        "\n",
        "def vectorize(Text):\n",
        "    return TfidfVectorizer().fit_transform(Text).toarray()\n",
        "\n",
        "def similarity(doc1, doc2):\n",
        "    return cosine_similarity([doc1, doc2])\n",
        "\n",
        "def read_text_files_from_zip(zip_filename):\n",
        "    student_notes = []\n",
        "    file_names = []\n",
        "    with zipfile.ZipFile(zip_filename, 'r') as zipf:\n",
        "        for file_info in zipf.infolist():\n",
        "            if file_info.filename.endswith('.pdf') and not file_info.filename.startswith(\"._\"):  # Only read .txt files and skip those starting with \"._\"\n",
        "                with zipf.open(file_info) as file:\n",
        "                    text = file.read().decode('latin-1')\n",
        "                    student_notes.append(text)\n",
        "                    file_names.append(file_info.filename)\n",
        "    return student_notes, file_names\n",
        "\n",
        "def check_plagiarism(zip_filename):\n",
        "    student_notes, file_names = read_text_files_from_zip(zip_filename)\n",
        "    vectors = vectorize(student_notes)\n",
        "\n",
        "    plagiarism_results = []\n",
        "\n",
        "    for i in range(len(student_notes)):\n",
        "        for j in range(i + 1, len(student_notes)):\n",
        "            sim_score = similarity(vectors[i], vectors[j])[0][1]\n",
        "            if sim_score > 0:\n",
        "                sim_score = round(sim_score, 2)\n",
        "                file1_name = os.path.basename(file_names[i])\n",
        "                file2_name = os.path.basename(file_names[j])\n",
        "                plagiarism_results.append((file1_name, file2_name, sim_score))\n",
        "\n",
        "    return plagiarism_results\n",
        "\n",
        "if __name__ == \"__main__\":\n",
        "    zip_filename = \"/content/sample_doc_2.zip\"\n",
        "    if os.path.exists(zip_filename):\n",
        "        result = check_plagiarism(zip_filename)\n",
        "        if result:\n",
        "            file1_names, file2_names, similarity_scores = zip(*result)\n",
        "            x = np.arange(len(result))\n",
        "\n",
        "            plt.figure(figsize=(12, 6))\n",
        "            plt.bar(x, similarity_scores, color='skyblue')\n",
        "            plt.xticks(x, [f'{file1} - {file2}' for file1, file2 in zip(file1_names, file2_names)], rotation=0)  # Horizontal labels\n",
        "            plt.xlabel('File Pairs')\n",
        "            plt.ylabel('Similarity Score')\n",
        "            plt.title('Plagiarism Check Results')\n",
        "            plt.gca().xaxis.set_major_locator(plt.MultipleLocator(1))  # Set the x-axis tick spacing\n",
        "            plt.xticks(fontsize=8)  # Adjust font size for labels\n",
        "\n",
        "            plt.show()\n",
        "        else:\n",
        "            print(\"No plagiarism found.\")\n",
        "    else:\n",
        "        print(\"The specified file does not exist.\")\n"
      ],
      "metadata": {
        "colab": {
          "base_uri": "https://localhost:8080/",
          "height": 479
        },
        "outputId": "c780a342-4de6-4d36-92dd-d7027ad2ea12",
        "id": "daWLbMQAVg_p"
      },
      "execution_count": null,
      "outputs": [
        {
          "output_type": "display_data",
          "data": {
            "text/plain": [
              "<Figure size 1200x600 with 1 Axes>"
            ],
            "image/png": "[encoded data removed]"
          },
          "metadata": {}
        }
      ]
    }
  ]
}